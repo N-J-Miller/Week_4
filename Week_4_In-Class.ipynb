{
 "cells": [
  {
   "cell_type": "markdown",
   "id": "cbe400f1",
   "metadata": {},
   "source": [
    "# Warm-up\n",
    "\n",
    "### 1. bash stands for \"Bourne Again SHell\" named for it's creator, Stephen Bourne.\n",
    "### 2. Bash is a command shell like Unix used as a CLI and command executor combo.\n",
    "### 3. Command to change directories is cd\n",
    "### 4. Command to print working directory is pwd"
   ]
  },
  {
   "cell_type": "code",
   "execution_count": 19,
   "id": "864ae88a",
   "metadata": {},
   "outputs": [
    {
     "data": {
      "text/plain": [
       "[2, 4, 6, 8]"
      ]
     },
     "execution_count": 19,
     "metadata": {},
     "output_type": "execute_result"
    }
   ],
   "source": [
    "list = [1,2,3,4,5,6,7,8]\n",
    "list[1::2]"
   ]
  },
  {
   "cell_type": "code",
   "execution_count": 4,
   "id": "9ffa478b",
   "metadata": {},
   "outputs": [],
   "source": [
    "the_list=[1,2,3,4,5,6,7,8]\n",
    "#list comprehension\n"
   ]
  },
  {
   "cell_type": "markdown",
   "id": "16b61021",
   "metadata": {},
   "source": [
    "## Locality of reference is a good concept to # understand (and drop in interviews!)"
   ]
  },
  {
   "cell_type": "markdown",
   "id": "9fea8940",
   "metadata": {},
   "source": [
    "### Shaping"
   ]
  },
  {
   "cell_type": "code",
   "execution_count": 32,
   "id": "f3465724",
   "metadata": {},
   "outputs": [
    {
     "name": "stdout",
     "output_type": "stream",
     "text": [
      "(6,)\n",
      "[1 2 3 4 5 6]\n"
     ]
    }
   ],
   "source": [
    "import numpy as np\n",
    "a=np.array([1,2,3,4,5,6])\n",
    "print(a.shape)\n",
    "print(a)\n",
    "b = a.reshape(3,2)"
   ]
  },
  {
   "cell_type": "code",
   "execution_count": 8,
   "id": "776243d8",
   "metadata": {},
   "outputs": [
    {
     "name": "stdout",
     "output_type": "stream",
     "text": [
      "[[1 2]\n",
      " [3 4]\n",
      " [5 6]]\n"
     ]
    }
   ],
   "source": [
    "print(b)"
   ]
  },
  {
   "cell_type": "code",
   "execution_count": 9,
   "id": "3b0c96e5",
   "metadata": {},
   "outputs": [],
   "source": [
    "c = a.reshape(2,-1)"
   ]
  },
  {
   "cell_type": "code",
   "execution_count": 10,
   "id": "00a490f0",
   "metadata": {},
   "outputs": [
    {
     "data": {
      "text/plain": [
       "array([[1, 2, 3],\n",
       "       [4, 5, 6]])"
      ]
     },
     "execution_count": 10,
     "metadata": {},
     "output_type": "execute_result"
    }
   ],
   "source": [
    "c"
   ]
  },
  {
   "cell_type": "code",
   "execution_count": 11,
   "id": "9f7ae6a4",
   "metadata": {},
   "outputs": [
    {
     "data": {
      "text/plain": [
       "array([1, 2, 3, 4, 5, 6])"
      ]
     },
     "execution_count": 11,
     "metadata": {},
     "output_type": "execute_result"
    }
   ],
   "source": [
    "d = c.ravel()\n",
    "d "
   ]
  },
  {
   "cell_type": "markdown",
   "id": "f141ce97",
   "metadata": {},
   "source": [
    "## Transposition"
   ]
  },
  {
   "cell_type": "code",
   "execution_count": 12,
   "id": "acb7579f",
   "metadata": {},
   "outputs": [
    {
     "data": {
      "text/plain": [
       "array([0, 1, 2, 3, 4, 5, 6, 7, 8, 9])"
      ]
     },
     "execution_count": 12,
     "metadata": {},
     "output_type": "execute_result"
    }
   ],
   "source": [
    "e = np.arange(10)\n",
    "e"
   ]
  },
  {
   "cell_type": "code",
   "execution_count": 13,
   "id": "1d22bd6f",
   "metadata": {},
   "outputs": [
    {
     "data": {
      "text/plain": [
       "array([[1, 4],\n",
       "       [2, 5],\n",
       "       [3, 6]])"
      ]
     },
     "execution_count": 13,
     "metadata": {},
     "output_type": "execute_result"
    }
   ],
   "source": [
    "f = c.T\n",
    "f"
   ]
  },
  {
   "cell_type": "code",
   "execution_count": 15,
   "id": "9e284744",
   "metadata": {},
   "outputs": [
    {
     "data": {
      "text/plain": [
       "array([[1, 2, 3],\n",
       "       [4, 5, 6]])"
      ]
     },
     "execution_count": 15,
     "metadata": {},
     "output_type": "execute_result"
    }
   ],
   "source": [
    "c"
   ]
  },
  {
   "cell_type": "code",
   "execution_count": 14,
   "id": "c99906f1",
   "metadata": {},
   "outputs": [
    {
     "data": {
      "text/plain": [
       "array([[1, 4],\n",
       "       [2, 5],\n",
       "       [3, 6]])"
      ]
     },
     "execution_count": 14,
     "metadata": {},
     "output_type": "execute_result"
    }
   ],
   "source": [
    "g = c.transpose((1,0))\n",
    "g"
   ]
  },
  {
   "cell_type": "code",
   "execution_count": 16,
   "id": "148dcadb",
   "metadata": {},
   "outputs": [
    {
     "data": {
      "text/plain": [
       "array([[1, 2, 3],\n",
       "       [4, 5, 6]])"
      ]
     },
     "execution_count": 16,
     "metadata": {},
     "output_type": "execute_result"
    }
   ],
   "source": [
    "c"
   ]
  },
  {
   "cell_type": "markdown",
   "id": "20c584ab",
   "metadata": {},
   "source": [
    "## Python Slicing"
   ]
  },
  {
   "cell_type": "code",
   "execution_count": 20,
   "id": "50c1a479",
   "metadata": {},
   "outputs": [
    {
     "ename": "TypeError",
     "evalue": "'list' object is not callable",
     "output_type": "error",
     "traceback": [
      "\u001b[1;31m---------------------------------------------------------------------------\u001b[0m",
      "\u001b[1;31mTypeError\u001b[0m                                 Traceback (most recent call last)",
      "\u001b[1;32m~\\AppData\\Local\\Temp/ipykernel_4772/741609286.py\u001b[0m in \u001b[0;36m<module>\u001b[1;34m\u001b[0m\n\u001b[1;32m----> 1\u001b[1;33m \u001b[0ma\u001b[0m \u001b[1;33m=\u001b[0m \u001b[0mlist\u001b[0m\u001b[1;33m(\u001b[0m\u001b[0mrange\u001b[0m\u001b[1;33m(\u001b[0m\u001b[1;36m10\u001b[0m\u001b[1;33m)\u001b[0m\u001b[1;33m)\u001b[0m\u001b[1;33m\u001b[0m\u001b[1;33m\u001b[0m\u001b[0m\n\u001b[0m\u001b[0;32m      2\u001b[0m \u001b[0mprint\u001b[0m\u001b[1;33m(\u001b[0m\u001b[0ma\u001b[0m\u001b[1;33m)\u001b[0m\u001b[1;33m\u001b[0m\u001b[1;33m\u001b[0m\u001b[0m\n\u001b[0;32m      3\u001b[0m \u001b[0ma\u001b[0m\u001b[1;33m[\u001b[0m\u001b[1;33m:\u001b[0m\u001b[1;36m3\u001b[0m\u001b[1;33m]\u001b[0m\u001b[1;33m\u001b[0m\u001b[1;33m\u001b[0m\u001b[0m\n",
      "\u001b[1;31mTypeError\u001b[0m: 'list' object is not callable"
     ]
    }
   ],
   "source": [
    "a = list(range(10))\n",
    "print(a)\n",
    "a[:3]"
   ]
  },
  {
   "cell_type": "markdown",
   "id": "459e6c40",
   "metadata": {},
   "source": [
    "## Numpy Exercise"
   ]
  },
  {
   "cell_type": "raw",
   "id": "0a6d81d5",
   "metadata": {},
   "source": []
  },
  {
   "cell_type": "code",
   "execution_count": 35,
   "id": "999e6d51",
   "metadata": {},
   "outputs": [
    {
     "data": {
      "text/plain": [
       "array([[1.41421356, 1.73205081, 2.        ],\n",
       "       [2.23606798, 2.44948974, 2.64575131],\n",
       "       [2.82842712, 3.        , 3.16227766]])"
      ]
     },
     "execution_count": 35,
     "metadata": {},
     "output_type": "execute_result"
    }
   ],
   "source": [
    "#Write a NumPy program to create a 3x3 matrix \n",
    "#with values ranging from 2 to 10. And find the\n",
    "#square root of all the values in this Numpy array\n",
    "\n",
    "matrix = np.arange(2,11)\n",
    "matrix_cube = matrix.reshape(3,3)\n",
    "np.sqrt(matrix_cube)\n",
    "\n",
    "\n"
   ]
  },
  {
   "attachments": {
    "3x3.PNG": {
     "image/png": "[encoded data removed]"
    }
   },
   "cell_type": "markdown",
   "id": "019843f1",
   "metadata": {},
   "source": [
    "![3x3.PNG](attachment:3x3.PNG)"
   ]
  },
  {
   "cell_type": "markdown",
   "id": "c34d1e57",
   "metadata": {},
   "source": [
    "# ProlificProgrammer is the attendance code for 10/06/21"
   ]
  },
  {
   "cell_type": "markdown",
   "id": "17b0994a",
   "metadata": {},
   "source": [
    "# Pandas\n"
   ]
  },
  {
   "cell_type": "code",
   "execution_count": 2,
   "id": "f4d448dd",
   "metadata": {},
   "outputs": [],
   "source": [
    "#my_df_2['name']\n",
    "\n",
    "#print statement\n",
    "#set a column as an index\n",
    "\n",
    "\n",
    "# Make sure to look at Merge documentation and thoroughly understand it.\n",
    "\n"
   ]
  },
  {
   "cell_type": "code",
   "execution_count": null,
   "id": "f7bc1454",
   "metadata": {},
   "outputs": [],
   "source": []
  },
  {
   "cell_type": "code",
   "execution_count": 3,
   "id": "827c58c0",
   "metadata": {},
   "outputs": [],
   "source": [
    "import pandas as pd\n",
    "\n"
   ]
  },
  {
   "cell_type": "markdown",
   "id": "c775b2b1",
   "metadata": {},
   "source": [
    "# Group Activity"
   ]
  },
  {
   "cell_type": "markdown",
   "id": "4354723b",
   "metadata": {},
   "source": [
    "### 1) Import the Belize_Airbnb_listings csv."
   ]
  },
  {
   "cell_type": "code",
   "execution_count": 4,
   "id": "f286a774",
   "metadata": {},
   "outputs": [],
   "source": [
    "belize_listings_path = \"C:/Users/Nik/Documents/LaunchCoderGirlSTL/Data-Science-Assignments/CoderGirl/belize_airbnb_listings.csv\"\n",
    "belize_df = pd.read_csv(belize_listings_path)"
   ]
  },
  {
   "cell_type": "code",
   "execution_count": 30,
   "id": "4533380a",
   "metadata": {
    "scrolled": true
   },
   "outputs": [
    {
     "data": {
      "text/html": [
       "<div>\n",
       "<style scoped>\n",
       "    .dataframe tbody tr th:only-of-type {\n",
       "        vertical-align: middle;\n",
       "    }\n",
       "\n",
       "    .dataframe tbody tr th {\n",
       "        vertical-align: top;\n",
       "    }\n",
       "\n",
       "    .dataframe thead th {\n",
       "        text-align: right;\n",
       "    }\n",
       "</style>\n",
       "<table border=\"1\" class=\"dataframe\">\n",
       "  <thead>\n",
       "    <tr style=\"text-align: right;\">\n",
       "      <th></th>\n",
       "      <th>id</th>\n",
       "      <th>name</th>\n",
       "      <th>host_id</th>\n",
       "      <th>host_name</th>\n",
       "      <th>neighbourhood_group</th>\n",
       "      <th>neighbourhood</th>\n",
       "      <th>latitude</th>\n",
       "      <th>longitude</th>\n",
       "      <th>room_type</th>\n",
       "      <th>price</th>\n",
       "      <th>minimum_nights</th>\n",
       "      <th>number_of_reviews</th>\n",
       "      <th>last_review</th>\n",
       "      <th>reviews_per_month</th>\n",
       "      <th>calculated_host_listings_count</th>\n",
       "      <th>availability_365</th>\n",
       "    </tr>\n",
       "  </thead>\n",
       "  <tbody>\n",
       "    <tr>\n",
       "      <th>0</th>\n",
       "      <td>36666</td>\n",
       "      <td>Mo's Cozy Casa w/ veranda &amp; access to dock</td>\n",
       "      <td>157752</td>\n",
       "      <td>Monique</td>\n",
       "      <td>Belize</td>\n",
       "      <td>Belize Islands</td>\n",
       "      <td>17.74786</td>\n",
       "      <td>-88.02398</td>\n",
       "      <td>Entire home/apt</td>\n",
       "      <td>141</td>\n",
       "      <td>3</td>\n",
       "      <td>250</td>\n",
       "      <td>2/23/2021</td>\n",
       "      <td>2.00</td>\n",
       "      <td>5</td>\n",
       "      <td>225</td>\n",
       "    </tr>\n",
       "    <tr>\n",
       "      <th>1</th>\n",
       "      <td>36690</td>\n",
       "      <td>Mo's Cozy Cabana w/ comfy veranda &amp; access to ...</td>\n",
       "      <td>157752</td>\n",
       "      <td>Monique</td>\n",
       "      <td>Belize</td>\n",
       "      <td>Belize Islands</td>\n",
       "      <td>17.74832</td>\n",
       "      <td>-88.02474</td>\n",
       "      <td>Entire home/apt</td>\n",
       "      <td>71</td>\n",
       "      <td>3</td>\n",
       "      <td>316</td>\n",
       "      <td>2/19/2021</td>\n",
       "      <td>2.46</td>\n",
       "      <td>5</td>\n",
       "      <td>164</td>\n",
       "    </tr>\n",
       "    <tr>\n",
       "      <th>2</th>\n",
       "      <td>108932</td>\n",
       "      <td>Purple House eco solar  w/ ocean &amp; wildlife views</td>\n",
       "      <td>563377</td>\n",
       "      <td>Michael</td>\n",
       "      <td>Belize</td>\n",
       "      <td>Belize Islands</td>\n",
       "      <td>17.73221</td>\n",
       "      <td>-88.03824</td>\n",
       "      <td>Entire home/apt</td>\n",
       "      <td>191</td>\n",
       "      <td>2</td>\n",
       "      <td>30</td>\n",
       "      <td>3/14/2020</td>\n",
       "      <td>0.78</td>\n",
       "      <td>1</td>\n",
       "      <td>364</td>\n",
       "    </tr>\n",
       "    <tr>\n",
       "      <th>3</th>\n",
       "      <td>110483</td>\n",
       "      <td>Michelo's fuchsia suite</td>\n",
       "      <td>567809</td>\n",
       "      <td>Michel</td>\n",
       "      <td>Stann Creek</td>\n",
       "      <td>Stann Creek Mainland</td>\n",
       "      <td>16.52114</td>\n",
       "      <td>-88.36926</td>\n",
       "      <td>Hotel room</td>\n",
       "      <td>121</td>\n",
       "      <td>1</td>\n",
       "      <td>27</td>\n",
       "      <td>2/24/2020</td>\n",
       "      <td>0.29</td>\n",
       "      <td>3</td>\n",
       "      <td>331</td>\n",
       "    </tr>\n",
       "    <tr>\n",
       "      <th>4</th>\n",
       "      <td>120115</td>\n",
       "      <td>Seaside Villas Second Floor Unit  #4</td>\n",
       "      <td>604999</td>\n",
       "      <td>Bobbi</td>\n",
       "      <td>Belize</td>\n",
       "      <td>Belize Islands</td>\n",
       "      <td>17.74166</td>\n",
       "      <td>-88.02395</td>\n",
       "      <td>Entire home/apt</td>\n",
       "      <td>343</td>\n",
       "      <td>1</td>\n",
       "      <td>30</td>\n",
       "      <td>3/18/2020</td>\n",
       "      <td>0.64</td>\n",
       "      <td>22</td>\n",
       "      <td>203</td>\n",
       "    </tr>\n",
       "  </tbody>\n",
       "</table>\n",
       "</div>"
      ],
      "text/plain": [
       "       id                                               name  host_id  \\\n",
       "0   36666         Mo's Cozy Casa w/ veranda & access to dock   157752   \n",
       "1   36690  Mo's Cozy Cabana w/ comfy veranda & access to ...   157752   \n",
       "2  108932  Purple House eco solar  w/ ocean & wildlife views   563377   \n",
       "3  110483                            Michelo's fuchsia suite   567809   \n",
       "4  120115               Seaside Villas Second Floor Unit  #4   604999   \n",
       "\n",
       "  host_name neighbourhood_group         neighbourhood  latitude  longitude  \\\n",
       "0   Monique              Belize        Belize Islands  17.74786  -88.02398   \n",
       "1   Monique              Belize        Belize Islands  17.74832  -88.02474   \n",
       "2   Michael              Belize        Belize Islands  17.73221  -88.03824   \n",
       "3    Michel         Stann Creek  Stann Creek Mainland  16.52114  -88.36926   \n",
       "4     Bobbi              Belize        Belize Islands  17.74166  -88.02395   \n",
       "\n",
       "         room_type  price  minimum_nights  number_of_reviews last_review  \\\n",
       "0  Entire home/apt    141               3                250   2/23/2021   \n",
       "1  Entire home/apt     71               3                316   2/19/2021   \n",
       "2  Entire home/apt    191               2                 30   3/14/2020   \n",
       "3       Hotel room    121               1                 27   2/24/2020   \n",
       "4  Entire home/apt    343               1                 30   3/18/2020   \n",
       "\n",
       "   reviews_per_month  calculated_host_listings_count  availability_365  \n",
       "0               2.00                               5               225  \n",
       "1               2.46                               5               164  \n",
       "2               0.78                               1               364  \n",
       "3               0.29                               3               331  \n",
       "4               0.64                              22               203  "
      ]
     },
     "execution_count": 30,
     "metadata": {},
     "output_type": "execute_result"
    }
   ],
   "source": [
    "belize_df.head()"
   ]
  },
  {
   "cell_type": "code",
   "execution_count": 9,
   "id": "436eff70",
   "metadata": {
    "scrolled": true
   },
   "outputs": [
    {
     "data": {
      "text/html": [
       "<div>\n",
       "<style scoped>\n",
       "    .dataframe tbody tr th:only-of-type {\n",
       "        vertical-align: middle;\n",
       "    }\n",
       "\n",
       "    .dataframe tbody tr th {\n",
       "        vertical-align: top;\n",
       "    }\n",
       "\n",
       "    .dataframe thead th {\n",
       "        text-align: right;\n",
       "    }\n",
       "</style>\n",
       "<table border=\"1\" class=\"dataframe\">\n",
       "  <thead>\n",
       "    <tr style=\"text-align: right;\">\n",
       "      <th></th>\n",
       "      <th>price</th>\n",
       "      <th>number_of_reviews</th>\n",
       "      <th>availability_365</th>\n",
       "    </tr>\n",
       "    <tr>\n",
       "      <th>neighbourhood</th>\n",
       "      <th></th>\n",
       "      <th></th>\n",
       "      <th></th>\n",
       "    </tr>\n",
       "  </thead>\n",
       "  <tbody>\n",
       "    <tr>\n",
       "      <th>Belize Islands</th>\n",
       "      <td>399.442824</td>\n",
       "      <td>17.647736</td>\n",
       "      <td>295.970837</td>\n",
       "    </tr>\n",
       "    <tr>\n",
       "      <th>Belize Mainland</th>\n",
       "      <td>288.273063</td>\n",
       "      <td>15.147601</td>\n",
       "      <td>261.014760</td>\n",
       "    </tr>\n",
       "    <tr>\n",
       "      <th>Cayo</th>\n",
       "      <td>205.847525</td>\n",
       "      <td>14.566337</td>\n",
       "      <td>259.249505</td>\n",
       "    </tr>\n",
       "    <tr>\n",
       "      <th>Corozal</th>\n",
       "      <td>156.553846</td>\n",
       "      <td>7.569231</td>\n",
       "      <td>278.676923</td>\n",
       "    </tr>\n",
       "    <tr>\n",
       "      <th>Orange Walk</th>\n",
       "      <td>122.035714</td>\n",
       "      <td>14.821429</td>\n",
       "      <td>261.928571</td>\n",
       "    </tr>\n",
       "    <tr>\n",
       "      <th>Stann Creek Islands</th>\n",
       "      <td>1136.166667</td>\n",
       "      <td>5.750000</td>\n",
       "      <td>248.083333</td>\n",
       "    </tr>\n",
       "    <tr>\n",
       "      <th>Stann Creek Mainland</th>\n",
       "      <td>456.994690</td>\n",
       "      <td>8.470796</td>\n",
       "      <td>277.872566</td>\n",
       "    </tr>\n",
       "    <tr>\n",
       "      <th>Toledo Mainland</th>\n",
       "      <td>222.978723</td>\n",
       "      <td>4.127660</td>\n",
       "      <td>234.744681</td>\n",
       "    </tr>\n",
       "  </tbody>\n",
       "</table>\n",
       "</div>"
      ],
      "text/plain": [
       "                            price  number_of_reviews  availability_365\n",
       "neighbourhood                                                         \n",
       "Belize Islands         399.442824          17.647736        295.970837\n",
       "Belize Mainland        288.273063          15.147601        261.014760\n",
       "Cayo                   205.847525          14.566337        259.249505\n",
       "Corozal                156.553846           7.569231        278.676923\n",
       "Orange Walk            122.035714          14.821429        261.928571\n",
       "Stann Creek Islands   1136.166667           5.750000        248.083333\n",
       "Stann Creek Mainland   456.994690           8.470796        277.872566\n",
       "Toledo Mainland        222.978723           4.127660        234.744681"
      ]
     },
     "execution_count": 9,
     "metadata": {},
     "output_type": "execute_result"
    }
   ],
   "source": [
    "neighborhoods = belize_df.groupby('neighbourhood')\n",
    "neighborhoods[['price','number_of_reviews','availability_365']].mean()"
   ]
  },
  {
   "cell_type": "markdown",
   "id": "8efacb1b",
   "metadata": {},
   "source": [
    "### 2) Take the following list and create a new list from the square of each value.\n",
    "### og_list=[2, 4, 6, 8, 10, 12, 14]"
   ]
  },
  {
   "cell_type": "code",
   "execution_count": 11,
   "id": "1e12cbda",
   "metadata": {},
   "outputs": [
    {
     "name": "stdout",
     "output_type": "stream",
     "text": [
      "[4, 16, 36, 64, 100, 144, 196]\n"
     ]
    }
   ],
   "source": [
    "og_list = [2,4,6,8,10,12,14]\n",
    "lowercase_g_list = [n ** 2 for n in og_list]\n",
    "print(lowercase_g_list)"
   ]
  },
  {
   "cell_type": "markdown",
   "id": "a2f28197",
   "metadata": {},
   "source": [
    "### 3) Take the same list from the previous question and create a new list but where each value is 2/3\n"
   ]
  },
  {
   "cell_type": "code",
   "execution_count": 12,
   "id": "5874007e",
   "metadata": {},
   "outputs": [
    {
     "name": "stdout",
     "output_type": "stream",
     "text": [
      "[2.6666666666666665, 10.666666666666666, 24.0, 42.666666666666664, 66.66666666666667, 96.0, 130.66666666666666]\n"
     ]
    }
   ],
   "source": [
    "O_G_Readmore = [n * 2/3 for n in lowercase_g_list]\n",
    "print(O_G_Readmore)"
   ]
  },
  {
   "cell_type": "markdown",
   "id": "1fc78b99",
   "metadata": {},
   "source": [
    "### 4) Write a list comprehension or function to lowercase all the keys in the below dictionary. "
   ]
  },
  {
   "cell_type": "code",
   "execution_count": 29,
   "id": "a9b6460a",
   "metadata": {},
   "outputs": [
    {
     "name": "stdout",
     "output_type": "stream",
     "text": [
      "{'apples': 1500, 'cranberries': 2000, 'pears': 2500, 'cherries': 1600, 'plums': 2400, 'peaches': 13600, 'oranges': 7}\n"
     ]
    }
   ],
   "source": [
    "dict={\"Apples\": 1500, \"Cranberries\": 2000, \"Pears\": 2500, \"Cherries\": 1600, \"Plums\": 2400,\n",
    "\"Peaches\": 13600, \"Oranges\": 7}\n",
    "lowercase = {k.lower(): v for k, v in dict.items()}\n",
    "print(lowercase)"
   ]
  },
  {
   "cell_type": "markdown",
   "id": "fd72b4f3",
   "metadata": {},
   "source": [
    "#### I chose this mechanism for lowercase because this mechanism enabled me to keep the dictionary intact instead of converting it's keys to a list."
   ]
  },
  {
   "cell_type": "code",
   "execution_count": null,
   "id": "efcc8ce3",
   "metadata": {},
   "outputs": [],
   "source": []
  }
 ],
 "metadata": {
  "kernelspec": {
   "display_name": "Python 3 (ipykernel)",
   "language": "python",
   "name": "python3"
  },
  "language_info": {
   "codemirror_mode": {
    "name": "ipython",
    "version": 3
   },
   "file_extension": ".py",
   "mimetype": "text/x-python",
   "name": "python",
   "nbconvert_exporter": "python",
   "pygments_lexer": "ipython3",
   "version": "3.9.7"
  }
 },
 "nbformat": 4,
 "nbformat_minor": 5
}
